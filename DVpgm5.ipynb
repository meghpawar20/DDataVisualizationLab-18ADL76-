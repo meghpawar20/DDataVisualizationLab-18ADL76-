{
 "cells": [
  {
   "cell_type": "code",
   "execution_count": 1,
   "id": "8c124735",
   "metadata": {},
   "outputs": [],
   "source": [
    "from bs4 import BeautifulSoup"
   ]
  },
  {
   "cell_type": "code",
   "execution_count": 89,
   "id": "7915e93b",
   "metadata": {},
   "outputs": [],
   "source": [
    "with open('my.html') as fp:\n",
    "    soup=BeautifulSoup(fp,\"html.parser\")"
   ]
  },
  {
   "cell_type": "code",
   "execution_count": 90,
   "id": "b7e23bdb",
   "metadata": {},
   "outputs": [
    {
     "data": {
      "text/plain": [
       "<title>Program 5</title>"
      ]
     },
     "execution_count": 90,
     "metadata": {},
     "output_type": "execute_result"
    }
   ],
   "source": [
    "soup.head.title"
   ]
  },
  {
   "cell_type": "code",
   "execution_count": 91,
   "id": "54ff7223",
   "metadata": {},
   "outputs": [
    {
     "data": {
      "text/plain": [
       "'\\nHTML Parser\\nProgram No. 5 Data Visualization\\n\\nLink 1\\nHello World\\nLink 2\\n\\nLink 3\\n\\n\\npgm1\\npgm2\\n\\n\\n\\npgm1\\npgm2\\n\\n\\n'"
      ]
     },
     "execution_count": 91,
     "metadata": {},
     "output_type": "execute_result"
    }
   ],
   "source": [
    "soup.body.text"
   ]
  },
  {
   "cell_type": "code",
   "execution_count": 92,
   "id": "7f3a3030",
   "metadata": {},
   "outputs": [
    {
     "data": {
      "text/plain": [
       "'Link 1'"
      ]
     },
     "execution_count": 92,
     "metadata": {},
     "output_type": "execute_result"
    }
   ],
   "source": [
    "soup.body.p.a.text"
   ]
  },
  {
   "cell_type": "code",
   "execution_count": 93,
   "id": "1cd4191b",
   "metadata": {},
   "outputs": [
    {
     "data": {
      "text/plain": [
       "<p class=\"para\">\n",
       "<a class=\"element\" href=\"xyz.com\">Link 1</a>\n",
       "<b>Hello World</b>\n",
       "<a class=\"elememnt\" href=\"xyz.com\">Link 2</a>\n",
       "</p>"
      ]
     },
     "execution_count": 93,
     "metadata": {},
     "output_type": "execute_result"
    }
   ],
   "source": [
    "soup.body.p"
   ]
  },
  {
   "cell_type": "code",
   "execution_count": 94,
   "id": "70608b3f",
   "metadata": {},
   "outputs": [
    {
     "data": {
      "text/plain": [
       "[<a class=\"element\" href=\"xyz.com\">Link 1</a>,\n",
       " <a class=\"elememnt\" href=\"xyz.com\">Link 2</a>,\n",
       " <a class=\"avatar\" href=\"\">Link 3</a>]"
      ]
     },
     "execution_count": 94,
     "metadata": {},
     "output_type": "execute_result"
    }
   ],
   "source": [
    "soup.find_all(\"a\")"
   ]
  },
  {
   "cell_type": "code",
   "execution_count": 95,
   "id": "770af03e",
   "metadata": {},
   "outputs": [
    {
     "data": {
      "text/plain": [
       "<p class=\"para\">\n",
       "<a class=\"element\" href=\"xyz.com\">Link 1</a>\n",
       "<b>Hello World</b>\n",
       "<a class=\"elememnt\" href=\"xyz.com\">Link 2</a>\n",
       "</p>"
      ]
     },
     "execution_count": 95,
     "metadata": {},
     "output_type": "execute_result"
    }
   ],
   "source": [
    "soup.body.p"
   ]
  },
  {
   "cell_type": "code",
   "execution_count": 96,
   "id": "6002d837",
   "metadata": {},
   "outputs": [
    {
     "data": {
      "text/plain": [
       "<a class=\"element\" href=\"xyz.com\">Link 1</a>"
      ]
     },
     "execution_count": 96,
     "metadata": {},
     "output_type": "execute_result"
    }
   ],
   "source": [
    "soup.body.a"
   ]
  },
  {
   "cell_type": "code",
   "execution_count": 97,
   "id": "4dead6ce",
   "metadata": {},
   "outputs": [
    {
     "data": {
      "text/plain": [
       "<table>\n",
       "<tr><td>pgm1</td></tr>\n",
       "<tr><td>pgm2</td></tr>\n",
       "</table>"
      ]
     },
     "execution_count": 97,
     "metadata": {},
     "output_type": "execute_result"
    }
   ],
   "source": [
    "soup.body.table"
   ]
  },
  {
   "cell_type": "code",
   "execution_count": 98,
   "id": "d8ff3e19",
   "metadata": {},
   "outputs": [
    {
     "data": {
      "text/plain": [
       "[<p class=\"para\">\n",
       " <a class=\"element\" href=\"xyz.com\">Link 1</a>\n",
       " <b>Hello World</b>\n",
       " <a class=\"elememnt\" href=\"xyz.com\">Link 2</a>\n",
       " </p>,\n",
       " <p class=\"para\">\n",
       " <table>\n",
       " <tr><td>pgm1</td></tr>\n",
       " <tr><td>pgm2</td></tr>\n",
       " </table>\n",
       " </p>]"
      ]
     },
     "execution_count": 98,
     "metadata": {},
     "output_type": "execute_result"
    }
   ],
   "source": [
    "soup.find_all(\"p\")"
   ]
  },
  {
   "cell_type": "code",
   "execution_count": 99,
   "id": "dae8e6e0",
   "metadata": {},
   "outputs": [
    {
     "data": {
      "text/plain": [
       "<b>Hello World</b>"
      ]
     },
     "execution_count": 99,
     "metadata": {},
     "output_type": "execute_result"
    }
   ],
   "source": [
    "soup.body.p.b"
   ]
  },
  {
   "cell_type": "code",
   "execution_count": 100,
   "id": "d3bdb390",
   "metadata": {},
   "outputs": [
    {
     "data": {
      "text/plain": [
       "[<p class=\"para\">\n",
       " <a class=\"element\" href=\"xyz.com\">Link 1</a>\n",
       " <b>Hello World</b>\n",
       " <a class=\"elememnt\" href=\"xyz.com\">Link 2</a>\n",
       " </p>,\n",
       " <p class=\"para\">\n",
       " <table>\n",
       " <tr><td>pgm1</td></tr>\n",
       " <tr><td>pgm2</td></tr>\n",
       " </table>\n",
       " </p>]"
      ]
     },
     "execution_count": 100,
     "metadata": {},
     "output_type": "execute_result"
    }
   ],
   "source": [
    "soup.find_all(\"p\",class_=\"para\")"
   ]
  },
  {
   "cell_type": "code",
   "execution_count": 101,
   "id": "22159510",
   "metadata": {},
   "outputs": [
    {
     "data": {
      "text/plain": [
       "'xyz.com'"
      ]
     },
     "execution_count": 101,
     "metadata": {},
     "output_type": "execute_result"
    }
   ],
   "source": [
    "soup.find(\"a\",href=True)[\"href\"]"
   ]
  },
  {
   "cell_type": "code",
   "execution_count": 102,
   "id": "35340761",
   "metadata": {},
   "outputs": [
    {
     "name": "stdout",
     "output_type": "stream",
     "text": [
      "<table>\n",
      "<tr><td>pgm1</td></tr>\n",
      "<tr><td>pgm2</td></tr>\n",
      "</table>\n",
      "<table>\n",
      "<tr>pgm1</tr>\n",
      "<tr>pgm2</tr>\n",
      "</table>\n"
     ]
    }
   ],
   "source": [
    "import re\n",
    "for tag in soup.find_all(re.compile(\"^table\")):\n",
    "    print(tag)"
   ]
  },
  {
   "cell_type": "code",
   "execution_count": 103,
   "id": "63792508",
   "metadata": {},
   "outputs": [
    {
     "name": "stdout",
     "output_type": "stream",
     "text": [
      "<body>\n",
      "<h1>HTML Parser</h1>\n",
      "<h2>Program No. 5 Data Visualization</h2>\n",
      "<p class=\"para\">\n",
      "<a class=\"element\" href=\"xyz.com\">Link 1</a>\n",
      "<b>Hello World</b>\n",
      "<a class=\"elememnt\" href=\"xyz.com\">Link 2</a>\n",
      "</p>\n",
      "<a class=\"avatar\" href=\"\">Link 3</a>\n",
      "<p class=\"para\">\n",
      "<table>\n",
      "<tr><td>pgm1</td></tr>\n",
      "<tr><td>pgm2</td></tr>\n",
      "</table>\n",
      "</p>\n",
      "<table>\n",
      "<tr>pgm1</tr>\n",
      "<tr>pgm2</tr>\n",
      "</table>\n",
      "<img alt=\"img\" src=\"home.png\"/>\n",
      "</body>\n",
      "<b>Hello World</b>\n"
     ]
    }
   ],
   "source": [
    "for tag in soup.find_all(re.compile(\"^b\")):\n",
    "    print(tag)"
   ]
  },
  {
   "cell_type": "code",
   "execution_count": 104,
   "id": "67bfe580",
   "metadata": {},
   "outputs": [
    {
     "name": "stdout",
     "output_type": "stream",
     "text": [
      "<b>Hello World</b>\n"
     ]
    }
   ],
   "source": [
    "for tag in soup.find_all(re.compile(\"^b$\")):\n",
    "    print(tag)"
   ]
  },
  {
   "cell_type": "code",
   "execution_count": 105,
   "id": "d6ca1976",
   "metadata": {},
   "outputs": [
    {
     "data": {
      "text/plain": [
       "<tr><td>pgm1</td></tr>"
      ]
     },
     "execution_count": 105,
     "metadata": {},
     "output_type": "execute_result"
    }
   ],
   "source": [
    "soup.body.table.tr"
   ]
  },
  {
   "cell_type": "code",
   "execution_count": 106,
   "id": "77f3800a",
   "metadata": {},
   "outputs": [
    {
     "data": {
      "text/plain": [
       "[<tr><td>pgm1</td></tr>, <tr><td>pgm2</td></tr>, <tr>pgm1</tr>, <tr>pgm2</tr>]"
      ]
     },
     "execution_count": 106,
     "metadata": {},
     "output_type": "execute_result"
    }
   ],
   "source": [
    "soup.find_all(\"tr\")"
   ]
  },
  {
   "cell_type": "code",
   "execution_count": 107,
   "id": "1d8b160b",
   "metadata": {},
   "outputs": [
    {
     "data": {
      "text/plain": [
       "[<td>pgm1</td>, <td>pgm2</td>]"
      ]
     },
     "execution_count": 107,
     "metadata": {},
     "output_type": "execute_result"
    }
   ],
   "source": [
    "soup.find_all(\"td\")"
   ]
  },
  {
   "cell_type": "code",
   "execution_count": 108,
   "id": "7de360c1",
   "metadata": {},
   "outputs": [
    {
     "data": {
      "text/plain": [
       "<img alt=\"img\" src=\"home.png\"/>"
      ]
     },
     "execution_count": 108,
     "metadata": {},
     "output_type": "execute_result"
    }
   ],
   "source": [
    "soup.body.img"
   ]
  },
  {
   "cell_type": "code",
   "execution_count": null,
   "id": "36c8a498",
   "metadata": {},
   "outputs": [],
   "source": []
  }
 ],
 "metadata": {
  "kernelspec": {
   "display_name": "Python 3 (ipykernel)",
   "language": "python",
   "name": "python3"
  },
  "language_info": {
   "codemirror_mode": {
    "name": "ipython",
    "version": 3
   },
   "file_extension": ".py",
   "mimetype": "text/x-python",
   "name": "python",
   "nbconvert_exporter": "python",
   "pygments_lexer": "ipython3",
   "version": "3.11.4"
  }
 },
 "nbformat": 4,
 "nbformat_minor": 5
}
